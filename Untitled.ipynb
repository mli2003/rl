{
 "cells": [
  {
   "cell_type": "code",
   "execution_count": 1,
   "metadata": {
    "collapsed": true
   },
   "outputs": [],
   "source": [
    "import gym\n",
    "import numpy as np"
   ]
  },
  {
   "cell_type": "code",
   "execution_count": 2,
   "metadata": {},
   "outputs": [
    {
     "name": "stdout",
     "output_type": "stream",
     "text": [
      "\u001b[33mWARN: gym.spaces.Box autodetected dtype as <class 'numpy.float32'>. Please provide explicit dtype.\u001b[0m\n"
     ]
    }
   ],
   "source": [
    "env = gym.make('CartPole-v0')\n",
    "status = env.reset()"
   ]
  },
  {
   "cell_type": "code",
   "execution_count": 5,
   "metadata": {
    "collapsed": true
   },
   "outputs": [],
   "source": [
    "box = env.observation_space.sample"
   ]
  },
  {
   "cell_type": "code",
   "execution_count": 6,
   "metadata": {},
   "outputs": [
    {
     "name": "stdout",
     "output_type": "stream",
     "text": [
      "Box(4,)\n"
     ]
    }
   ],
   "source": [
    "print(box)\n"
   ]
  },
  {
   "cell_type": "code",
   "execution_count": 7,
   "metadata": {},
   "outputs": [
    {
     "name": "stdout",
     "output_type": "stream",
     "text": [
      "Discrete(2)\n"
     ]
    }
   ],
   "source": [
    "action = env.action_space\n",
    "print(action)"
   ]
  },
  {
   "cell_type": "code",
   "execution_count": 2,
   "metadata": {
    "collapsed": true
   },
   "outputs": [],
   "source": [
    "def episodes(env, weight):\n",
    "    env.reset()\n",
    "    action = env.action_space.sample()\n",
    "    observation, reward, done, _ = env.step(action)        \n",
    "    count = 0\n",
    "    while not done:\n",
    "        if np.dot(weight, observation) > 0:\n",
    "            action = 0\n",
    "        else:\n",
    "            action = 1\n",
    "        count = count + 1\n",
    "        observation, reward, done, _ = env.step(action)\n",
    "    return count"
   ]
  },
  {
   "cell_type": "code",
   "execution_count": 3,
   "metadata": {},
   "outputs": [
    {
     "name": "stdout",
     "output_type": "stream",
     "text": [
      "\u001b[33mWARN: gym.spaces.Box autodetected dtype as <class 'numpy.float32'>. Please provide explicit dtype.\u001b[0m\n",
      "The final count is: 199\n"
     ]
    }
   ],
   "source": [
    "#Implement random selection\n",
    "env = gym.make('CartPole-v0')\n",
    "times = 10000\n",
    "ep_num = 10\n",
    "best_count = 0\n",
    "best_weights = None\n",
    "for i in range(times):    \n",
    "    rand_weights = np.random.rand(4) * 2 -1   \n",
    "    avg_count = 0\n",
    "    for j in range(ep_num):\n",
    "        count = episodes(env, rand_weights)\n",
    "        avg_count = (avg_count * j + count) / (j + 1)\n",
    "    if (avg_count > best_count):\n",
    "        best_count = avg_count\n",
    "        best_weights = rand_weights\n",
    "        \n",
    "count = episodes(env, best_weights)\n",
    "print(\"The final count is: \"  + str(count))"
   ]
  },
  {
   "cell_type": "code",
   "execution_count": null,
   "metadata": {
    "collapsed": true
   },
   "outputs": [],
   "source": []
  }
 ],
 "metadata": {
  "kernelspec": {
   "display_name": "Python 3",
   "language": "python",
   "name": "python3"
  },
  "language_info": {
   "codemirror_mode": {
    "name": "ipython",
    "version": 3
   },
   "file_extension": ".py",
   "mimetype": "text/x-python",
   "name": "python",
   "nbconvert_exporter": "python",
   "pygments_lexer": "ipython3",
   "version": "3.5.2"
  }
 },
 "nbformat": 4,
 "nbformat_minor": 2
}
