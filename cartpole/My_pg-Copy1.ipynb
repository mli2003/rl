{
 "cells": [
  {
   "cell_type": "code",
   "execution_count": 1,
   "metadata": {
    "collapsed": true
   },
   "outputs": [],
   "source": [
    "# https://deeplearningcourses.com/c/deep-reinforcement-learning-in-python\n",
    "# https://www.udemy.com/deep-reinforcement-learning-in-python\n",
    "from __future__ import print_function, division\n",
    "from builtins import range\n",
    "# Note: you may need to update your version of future\n",
    "# sudo pip install -U future\n",
    "# Inspired by https://github.com/dennybritz/reinforcement-learning\n",
    "\n",
    "import gym\n",
    "import os\n",
    "import sys\n",
    "import numpy as np\n",
    "import tensorflow as tf\n",
    "import matplotlib.pyplot as plt\n",
    "from gym import wrappers\n",
    "from datetime import datetime\n",
    "from q_learning_bins import plot_running_avg"
   ]
  },
  {
   "cell_type": "code",
   "execution_count": 2,
   "metadata": {
    "collapsed": true
   },
   "outputs": [],
   "source": [
    "class HiddenLayer:\n",
    "    def __init__(self, M1, M2, fn=tf.tanh):\n",
    "        #Initialize w\n",
    "        self.w = tf.Variable(tf.random_normal(shape=(M1, M2)))\n",
    "        self.fn = fn\n",
    "        \n",
    "    def forward(self, x):\n",
    "        return self.fn(tf.matmul(x, self.w))"
   ]
  },
  {
   "cell_type": "code",
   "execution_count": 3,
   "metadata": {
    "collapsed": true
   },
   "outputs": [],
   "source": [
    "class PolicyModel:\n",
    "    def __init__(self, env, layers):\n",
    "        self.actionSize  = env.action_space.n        \n",
    "        \n",
    "        #create a placehold for status\n",
    "        sample = env.observation_space.sample()\n",
    "        self.x = tf.placeholder(tf.float32, shape=(None, sample.shape[0]))\n",
    "        \n",
    "        #create a placehold for action\n",
    "        self.action = tf.placeholder(tf.int32, shape=(None, ))\n",
    "        onehot = tf.one_hot(self.action, self.actionSize)\n",
    "        \n",
    "        #create a placehold for G\n",
    "        self.G = tf.placeholder(tf.float32, shape=(None, ))\n",
    "        \n",
    "        #create a model according to layers\n",
    "        M1 = sample.shape[0]\n",
    "        output = self.x\n",
    "        for layer in layers:            \n",
    "            output = HiddenLayer(M1, layer).forward(output)                \n",
    "            M1 = layer\n",
    "            \n",
    "        #create the softmax layer\n",
    "        output = HiddenLayer(M1, self.actionSize, tf.nn.softmax).forward(output)        \n",
    "        self.output = tf.reshape(output, [-1])        \n",
    "        #print (\"shape for output and onehot:\")\n",
    "        #print (output.get_shape().as_list())\n",
    "        #print (onehot.get_shape().as_list())\n",
    "        \n",
    "        cost = - self.G * tf.log(tf.reduce_sum(onehot * output))\n",
    "        # self.train_op = tf.train.AdamOptimizer(1e-1).minimize(cost)\n",
    "        self.train_op = tf.train.AdagradOptimizer(1e-1).minimize(cost)\n",
    "        # self.train_op = tf.train.MomentumOptimizer(1e-4, momentum=0.9).minimize(cost)\n",
    "        # self.train_op = tf.train.GradientDescentOptimizer(1e-4).minimize(cost)\n",
    "        \n",
    "    def setSesstion(self, session):\n",
    "        self.session = session\n",
    "        \n",
    "    def update(self, X, G, action):        \n",
    "        X = np.atleast_2d(X)\n",
    "        action = np.atleast_1d(action)\n",
    "        G = np.atleast_1d(G)\n",
    "        #print(\"Shape for x, G, action\")\n",
    "        #print(X.shape)\n",
    "        #print(G.shape)\n",
    "        #print(action.shape)\n",
    "        self.session.run(self.train_op ,feed_dict={self.x: X, self.G: G, self.action: action})\n",
    "        \n",
    "    def predict(self, X):\n",
    "        X = np.atleast_2d(X)\n",
    "        ret = self.session.run(self.output ,feed_dict={self.x: X})\n",
    "        return ret\n",
    "    \n",
    "    def sampleAction(self, X):\n",
    "        return np.random.choice(self.actionSize, p=self.predict(X))"
   ]
  },
  {
   "cell_type": "code",
   "execution_count": 4,
   "metadata": {
    "collapsed": true
   },
   "outputs": [],
   "source": [
    "class ValueModel:\n",
    "    def __init__(self, env, layers):\n",
    "        #create a placehold for status\n",
    "        sample = env.observation_space.sample()\n",
    "        self.x = tf.placeholder(tf.float32, shape=(None, sample.shape[0]))\n",
    "        \n",
    "        #create a placehold for value\n",
    "        self.y = tf.placeholder(tf.float32, shape=(None, ))\n",
    "        \n",
    "        #create a model according to layers        \n",
    "        M1 = sample.shape[0]\n",
    "        output = self.x\n",
    "        for layer in layers:            \n",
    "            output = HiddenLayer(M1, layer).forward(output)\n",
    "                \n",
    "            M1 = layer\n",
    "        \n",
    "        #create the last layer\n",
    "        self.output = HiddenLayer(M1, 1, lambda x: x).forward(output)        \n",
    "        cost = tf.squared_difference(self.output, self.y)\n",
    "        # self.train_op = tf.train.AdamOptimizer(1e-2).minimize(cost)\n",
    "        # self.train_op = tf.train.MomentumOptimizer(1e-2, momentum=0.9).minimize(cost)\n",
    "        self.train_op = tf.train.GradientDescentOptimizer(1e-4).minimize(cost)\n",
    "        \n",
    "    def setSesstion(self, session):\n",
    "        self.session = session\n",
    "        \n",
    "    def update(self, X, Y):\n",
    "        X = np.atleast_2d(X)\n",
    "        Y = np.atleast_1d(Y)\n",
    "        self.session.run(self.train_op ,feed_dict={self.x: X, self.y: Y})\n",
    "        \n",
    "    def predict(self, X):\n",
    "        X = np.atleast_2d(X)\n",
    "        return self.session.run(self.output ,feed_dict={self.x: X})\n",
    "        "
   ]
  },
  {
   "cell_type": "code",
   "execution_count": 5,
   "metadata": {
    "collapsed": true
   },
   "outputs": [],
   "source": [
    "def playOneMC(env, pModel, vModel, gamma):\n",
    "    #Initialize the Env\n",
    "    state = env.reset()\n",
    "    \n",
    "    #Initialize states, actions, and rewards\n",
    "    states = []\n",
    "    actions = []\n",
    "    rewards = []\n",
    "    \n",
    "    done = False\n",
    "    i = 0\n",
    "    totalReward = 0\n",
    "    reward = 0\n",
    "    #loop for a episole\n",
    "    while not done and i < 200:\n",
    "        action = pModel.sampleAction(state)\n",
    "        states.append(state)\n",
    "        actions.append(action)\n",
    "        rewards.append(reward)\n",
    "        \n",
    "        newState, reward, done, info = env.step(action)\n",
    "        \n",
    "        \n",
    "        if done:\n",
    "            reward = -200\n",
    "        \n",
    "        if reward == 1:\n",
    "            totalReward += reward\n",
    "            \n",
    "        \n",
    "        state = newState\n",
    "        i += 1\n",
    "    \n",
    "    #save the final (s,a,r) tuple\n",
    "    action = pModel.sampleAction(state)\n",
    "    states.append(state)\n",
    "    actions.append(action)\n",
    "    rewards.append(reward)\n",
    "    \n",
    "    diffs = []\n",
    "    gs = []\n",
    "    G = 0\n",
    "    for r, s in zip(reversed(rewards), reversed(states)):\n",
    "        G = r + gamma * G\n",
    "        gs.append(G)\n",
    "        diffs.append(G-np.asscalar(vModel.predict(s)))\n",
    "        \n",
    "    gs.reverse()\n",
    "    diffs.reverse()\n",
    "    pModel.update(states, diffs, actions)\n",
    "    vModel.update(states, gs)\n",
    "    return totalReward"
   ]
  },
  {
   "cell_type": "code",
   "execution_count": null,
   "metadata": {
    "collapsed": true
   },
   "outputs": [],
   "source": []
  },
  {
   "cell_type": "code",
   "execution_count": 6,
   "metadata": {
    "collapsed": true
   },
   "outputs": [],
   "source": [
    "def main():\n",
    "    env = gym.make('CartPole-v0')\n",
    "    pLayers = []\n",
    "    pModel = PolicyModel(env, pLayers)\n",
    "    vLayers = [10]\n",
    "    vModel = ValueModel(env, vLayers)\n",
    "    gamma = 0.99\n",
    "    N = 1000\n",
    "    \n",
    "    init = tf.global_variables_initializer()\n",
    "    session = tf.InteractiveSession()\n",
    "    session.run(init)\n",
    "    pModel.setSesstion(session)\n",
    "    vModel.setSesstion(session)\n",
    "    totalRewards = np.empty(N)\n",
    "    for i in range(N):\n",
    "        totalReward = playOneMC(env, pModel, vModel, gamma)\n",
    "        totalRewards[i] = totalReward\n",
    "        if i % 100 == 0:\n",
    "            print(\"episode:\", i, \"total reward:\", totalReward, \"avg reward (last 100):\", totalRewards[max(0, i-100):(i+1)].mean())\n",
    "        \n",
    "    print(\"avg reward for last 100 episodes:\", totalRewards[-100:].mean())\n",
    "    \n",
    "    plt.plot(totalRewards)\n",
    "    plt.title(\"Rewards\")\n",
    "    plt.show()\n",
    "    \n",
    "    plot_running_avg(totalRewards)\n",
    "    "
   ]
  },
  {
   "cell_type": "code",
   "execution_count": 7,
   "metadata": {},
   "outputs": [
    {
     "name": "stdout",
     "output_type": "stream",
     "text": [
      "\u001b[33mWARN: gym.spaces.Box autodetected dtype as <class 'numpy.float32'>. Please provide explicit dtype.\u001b[0m\n",
      "episode: 0 total reward: 13.0 avg reward (last 100): 13.0\n",
      "episode: 100 total reward: 20.0 avg reward (last 100): 19.0396039604\n",
      "episode: 200 total reward: 16.0 avg reward (last 100): 20.1386138614\n",
      "episode: 300 total reward: 15.0 avg reward (last 100): 20.1485148515\n",
      "episode: 400 total reward: 12.0 avg reward (last 100): 19.8316831683\n",
      "episode: 500 total reward: 28.0 avg reward (last 100): 21.7326732673\n",
      "episode: 600 total reward: 35.0 avg reward (last 100): 20.4752475248\n",
      "episode: 700 total reward: 21.0 avg reward (last 100): 20.0891089109\n",
      "episode: 800 total reward: 20.0 avg reward (last 100): 19.6138613861\n",
      "episode: 900 total reward: 29.0 avg reward (last 100): 21.7821782178\n",
      "avg reward for last 100 episodes: 20.26\n"
     ]
    },
    {
     "data": {
      "image/png": "[encoded data removed]",
      "text/plain": [
       "<matplotlib.figure.Figure at 0x7f1ab0c68e10>"
      ]
     },
     "metadata": {},
     "output_type": "display_data"
    },
    {
     "data": {
      "image/png": "[encoded data removed]",
      "text/plain": [
       "<matplotlib.figure.Figure at 0x7f1aac146400>"
      ]
     },
     "metadata": {},
     "output_type": "display_data"
    }
   ],
   "source": [
    "main()"
   ]
  },
  {
   "cell_type": "code",
   "execution_count": null,
   "metadata": {
    "collapsed": true
   },
   "outputs": [],
   "source": []
  }
 ],
 "metadata": {
  "kernelspec": {
   "display_name": "Python 3",
   "language": "python",
   "name": "python3"
  },
  "language_info": {
   "codemirror_mode": {
    "name": "ipython",
    "version": 3
   },
   "file_extension": ".py",
   "mimetype": "text/x-python",
   "name": "python",
   "nbconvert_exporter": "python",
   "pygments_lexer": "ipython3",
   "version": "3.5.2"
  }
 },
 "nbformat": 4,
 "nbformat_minor": 2
}
