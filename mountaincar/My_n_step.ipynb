{
 "cells": [
  {
   "cell_type": "code",
   "execution_count": 1,
   "metadata": {
    "collapsed": true
   },
   "outputs": [],
   "source": [
    "# https://deeplearningcourses.com/c/deep-reinforcement-learning-in-python\n",
    "# https://www.udemy.com/deep-reinforcement-learning-in-python\n",
    "from __future__ import print_function, division\n",
    "from builtins import range\n",
    "# Note: you may need to update your version of future\n",
    "# sudo pip install -U future\n",
    "#\n",
    "# Note: gym changed from version 0.7.3 to 0.8.0\n",
    "# MountainCar episode length is capped at 200 in later versions.\n",
    "# This means your agent can't learn as much in the earlier episodes\n",
    "# since they are no longer as long.   \n",
    "#\n",
    "# Adapt Q-Learning script to use N-step method instead\n",
    "\n",
    "import gym\n",
    "import os\n",
    "import sys\n",
    "import numpy as np\n",
    "import matplotlib.pyplot as plt\n",
    "from gym import wrappers\n",
    "from datetime import datetime\n",
    "\n",
    "# code we already wrote\n",
    "import q_learning\n",
    "from q_learning import plot_cost_to_go, FeatureTransformer, Model, plot_running_avg"
   ]
  },
  {
   "cell_type": "code",
   "execution_count": null,
   "metadata": {
    "collapsed": true
   },
   "outputs": [],
   "source": [
    "class SGDRegressor:\n",
    "  def __init__(self, **kwargs):\n",
    "    \n",
    "  def partial_fit(self, X, Y):\n",
    "    \n",
    "  def predict(self, X):\n",
    "    \n",
    "    "
   ]
  },
  {
   "cell_type": "code",
   "execution_count": null,
   "metadata": {
    "collapsed": true
   },
   "outputs": [],
   "source": [
    "# returns a list of states_and_rewards, and the total reward\n",
    "def play_one(model, eps, gamma, n=5):\n",
    "    \n",
    "    # this array is used to store reward and states\n",
    "    rewards = np.zero(n)\n",
    "    states = np.zero(n)\n",
    "    pointer = 0\n",
    "    \n",
    "    \n",
    "    "
   ]
  }
 ],
 "metadata": {
  "kernelspec": {
   "display_name": "Python 3",
   "language": "python",
   "name": "python3"
  },
  "language_info": {
   "codemirror_mode": {
    "name": "ipython",
    "version": 3
   },
   "file_extension": ".py",
   "mimetype": "text/x-python",
   "name": "python",
   "nbconvert_exporter": "python",
   "pygments_lexer": "ipython3",
   "version": "3.5.2"
  }
 },
 "nbformat": 4,
 "nbformat_minor": 2
}
