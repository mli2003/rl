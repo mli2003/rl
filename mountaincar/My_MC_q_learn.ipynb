{
 "cells": [
  {
   "cell_type": "code",
   "execution_count": 1,
   "metadata": {
    "collapsed": true
   },
   "outputs": [],
   "source": [
    "# https://deeplearningcourses.com/c/deep-reinforcement-learning-in-python\n",
    "# https://www.udemy.com/deep-reinforcement-learning-in-python\n",
    "from __future__ import print_function, division\n",
    "from builtins import range\n",
    "# Note: you may need to update your version of future\n",
    "# sudo pip install -U future\n",
    "#\n",
    "# This takes 4min 30s to run in Python 2.7\n",
    "# But only 1min 30s to run in Python 3.5!\n",
    "#\n",
    "# Note: gym changed from version 0.7.3 to 0.8.0\n",
    "# MountainCar episode length is capped at 200 in later versions.\n",
    "# This means your agent can't learn as much in the earlier episodes\n",
    "# since they are no longer as long.\n",
    "\n",
    "import gym\n",
    "import os\n",
    "import sys\n",
    "import numpy as np\n",
    "import matplotlib\n",
    "import matplotlib.pyplot as plt\n",
    "from mpl_toolkits.mplot3d import Axes3D\n",
    "from gym import wrappers\n",
    "from datetime import datetime\n",
    "from sklearn.pipeline import FeatureUnion\n",
    "from sklearn.preprocessing import StandardScaler\n",
    "from sklearn.kernel_approximation import RBFSampler\n",
    "from sklearn.linear_model import SGDRegressor"
   ]
  },
  {
   "cell_type": "code",
   "execution_count": 2,
   "metadata": {
    "collapsed": true
   },
   "outputs": [],
   "source": [
    "class FeatureTransformer:\n",
    "  def __init__(self, env, n_components=500):\n",
    "    samples = np.array([env.observation_space.sample() for i in range(10000)])\n",
    "    self.scaler = StandardScaler()\n",
    "    self.scaler.fit(samples)\n",
    "    \n",
    "    self.feature = FeatureUnion([('rbf1', RBFSampler(gamma=5.0, n_components=n_components)),\n",
    "                                 ('rbf2', RBFSampler(gamma=2.0, n_components=n_components)),\n",
    "                                 ('rbf3', RBFSampler(gamma=1.0, n_components=n_components)),\n",
    "                                 ('rbf4', RBFSampler(gamma=0.5, n_components=n_components))\n",
    "                                ])\n",
    "    self.feature.fit_transform(self.scaler.transform(samples))\n",
    "    \n",
    "\n",
    "  def transform(self, observations):\n",
    "    X = self.scaler.transform(observations)\n",
    "    return self.feature.transform(X)\n",
    "\n"
   ]
  },
  {
   "cell_type": "code",
   "execution_count": null,
   "metadata": {
    "collapsed": true
   },
   "outputs": [],
   "source": [
    "class Model:\n",
    "  def __init__(self, env, feature_transformer, learning_rate):\n",
    "    \n",
    "    #initialize weights\n",
    "    self.feature = feature_transformer\n",
    "    \n",
    "    #initialize gradient descents  \n",
    "    self.models = []\n",
    "    for i in range(env.action_space.n):\n",
    "        model = SGDRegressor(learining_rate=learning_rate)\n",
    "        model.partial_fit(self.feature.transform([env.reset()]), [0])\n",
    "        self.models.append(model)\n",
    "        \n",
    "    self.env = env\n",
    "\n",
    "  def predict(self, s):\n",
    "    #return all action results\n",
    "    res = np.array[m.predict(self.feature.transform(s)) for m in self.models].T\n",
    "    return res\n",
    "\n",
    "  def update(self, s, a, G):\n",
    "    self.models[a].partial_fit(self.feature.transform(s),[G])\n",
    "  \n",
    "  def sample_action(self, s, eps):\n",
    "    # eps = 0\n",
    "    # Technically, we don't need to do epsilon-greedy\n",
    "    # because SGDRegressor predicts 0 for all states\n",
    "    # until they are updated. This works as the\n",
    "    # \"Optimistic Initial Values\" method, since all\n",
    "    # the rewards for Mountain Car are -1.\n",
    "    \n",
    "    #return selected action\n",
    "    i = np.random.rand()\n",
    "    if (i < eps):\n",
    "        return self.env.action_space.sample()\n",
    "    else:\n",
    "        return np.argmax(self.predict(s))\n"
   ]
  },
  {
   "cell_type": "code",
   "execution_count": null,
   "metadata": {
    "collapsed": true
   },
   "outputs": [],
   "source": [
    "# returns a list of states_and_rewards, and the total reward\n",
    "def play_one(model, env, eps, gamma):\n",
    "    s = env.reset()\n",
    "    done = False\n",
    "    totalReward = 0\n",
    "    #loop until finish\n",
    "    while(!done):\n",
    "        oldS = s\n",
    "        \n",
    "        # predict action\n",
    "        a = model.sample_action(s, eps)\n",
    "        \n",
    "        # action\n",
    "        s, reward, done, _ = env.step(a)\n",
    "        \n",
    "        # Calculate G\n",
    "        next = model.predict(s)\n",
    "        G = reward + gamma*np.max(next[0])\n",
    "        \n",
    "        # Update model\n",
    "        model.update(oldS, a, G)\n",
    "        \n",
    "        totalReward += reward\n",
    "    \n",
    "    return totalReward"
   ]
  },
  {
   "cell_type": "code",
   "execution_count": null,
   "metadata": {
    "collapsed": true
   },
   "outputs": [],
   "source": [
    "def plot_cost_to_go(env, estimator, num_tiles=20):"
   ]
  },
  {
   "cell_type": "code",
   "execution_count": null,
   "metadata": {
    "collapsed": true
   },
   "outputs": [],
   "source": [
    "def plot_running_avg(totalrewards):"
   ]
  },
  {
   "cell_type": "code",
   "execution_count": null,
   "metadata": {
    "collapsed": true
   },
   "outputs": [],
   "source": [
    "#main -- the main program to perform learning\n",
    "\n",
    "#Create env\n",
    "env = gym.make('MountainCar-v0')\n",
    "\n",
    "#Create feature transformer\n",
    "ft = FeatureTransformer(env)\n",
    "\n",
    "#Create a model\n",
    "model = Model(env, ft, \"constant\")\n",
    "\n",
    "for i in range(1000):\n",
    "    "
   ]
  },
  {
   "cell_type": "code",
   "execution_count": 3,
   "metadata": {},
   "outputs": [
    {
     "name": "stdout",
     "output_type": "stream",
     "text": [
      "\u001b[33mWARN: gym.spaces.Box autodetected dtype as <class 'numpy.float32'>. Please provide explicit dtype.\u001b[0m\n"
     ]
    }
   ],
   "source": [
    "#Create env\n",
    "env = gym.make('MountainCar-v0')\n",
    "\n",
    "#Create feature transformer\n",
    "ft = FeatureTransformer(env)"
   ]
  },
  {
   "cell_type": "code",
   "execution_count": 5,
   "metadata": {},
   "outputs": [
    {
     "name": "stdout",
     "output_type": "stream",
     "text": [
      "(1, 2000)\n"
     ]
    }
   ],
   "source": [
    "s = env.reset()\n",
    "test1 = ft.transform([s])\n",
    "print(test1.shape)"
   ]
  },
  {
   "cell_type": "code",
   "execution_count": null,
   "metadata": {
    "collapsed": true
   },
   "outputs": [],
   "source": []
  }
 ],
 "metadata": {
  "kernelspec": {
   "display_name": "Python 3",
   "language": "python",
   "name": "python3"
  },
  "language_info": {
   "codemirror_mode": {
    "name": "ipython",
    "version": 3
   },
   "file_extension": ".py",
   "mimetype": "text/x-python",
   "name": "python",
   "nbconvert_exporter": "python",
   "pygments_lexer": "ipython3",
   "version": "3.5.2"
  }
 },
 "nbformat": 4,
 "nbformat_minor": 2
}
